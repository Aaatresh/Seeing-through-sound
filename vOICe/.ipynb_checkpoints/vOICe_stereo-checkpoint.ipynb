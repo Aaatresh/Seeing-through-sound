{
 "cells": [
  {
   "cell_type": "code",
   "execution_count": null,
   "metadata": {},
   "outputs": [],
   "source": [
    "import cv2\n",
    "import numpy as np\n",
    "import scipy.io.wavfile as wav\n",
    "import matplotlib.pyplot as plt"
   ]
  },
  {
   "cell_type": "code",
   "execution_count": null,
   "metadata": {},
   "outputs": [],
   "source": [
    "img=cv2.imread(\"white.jpg\",0)\n",
    "resize_img=cv2.resize(img,(100,100))\n",
    "\n",
    "plt.title(\"Image read\")\n",
    "plt.imshow(resize_img,cmap=\"gray\")"
   ]
  },
  {
   "cell_type": "code",
   "execution_count": null,
   "metadata": {},
   "outputs": [],
   "source": [
    "fstep=((10000-100)/100)+1"
   ]
  },
  {
   "cell_type": "code",
   "execution_count": null,
   "metadata": {},
   "outputs": [],
   "source": [
    "n=np.arange(0,0.01,(1/44100.0))\n",
    "sound=np.zeros((n.size*100,2))\n",
    "tone=np.zeros((n.shape))\n",
    "\n",
    "for j in range(0,100):\n",
    "    \n",
    "    total_tone=np.zeros((n.size,2))\n",
    "    \n",
    "    k=resize_img.shape[1]\n",
    "    \n",
    "    for i in range(0,resize_img.shape[1]):\n",
    "        \n",
    "        tone=resize_img[i,j]*np.sin(2*np.pi*fstep*(k)*n)\n",
    "        \n",
    "        total_tone[:,0]=total_tone[:,0]+(100-j)*tone\n",
    "        total_tone[:,1]=total_tone[:,1]+(j)*tone\n",
    "        \n",
    "        k=k-1\n",
    "\n",
    "    print(j)\n",
    "    sound[j*n.size:(j+1)*n.size,0]=total_tone[:,0]\n",
    "    sound[j*n.size:(j+1)*n.size,1]=total_tone[:,1]\n",
    "        "
   ]
  },
  {
   "cell_type": "code",
   "execution_count": null,
   "metadata": {},
   "outputs": [],
   "source": [
    "sound=sound/(sound.max()+0.00001)\n",
    "#sound=np.uint8(sound)\n",
    "wav.write(\"rec1.wav\",44100,sound)"
   ]
  },
  {
   "cell_type": "code",
   "execution_count": null,
   "metadata": {},
   "outputs": [],
   "source": [
    "sound=sound/(sound.max()+0.00001)\n",
    "#sound=np.uint8(sound)\n",
    "wav.write(\"rec2.wav\",44100,sound)"
   ]
  },
  {
   "cell_type": "code",
   "execution_count": null,
   "metadata": {},
   "outputs": [],
   "source": []
  }
 ],
 "metadata": {
  "kernelspec": {
   "display_name": "Python 3",
   "language": "python",
   "name": "python3"
  },
  "language_info": {
   "codemirror_mode": {
    "name": "ipython",
    "version": 3
   },
   "file_extension": ".py",
   "mimetype": "text/x-python",
   "name": "python",
   "nbconvert_exporter": "python",
   "pygments_lexer": "ipython3",
   "version": "3.6.9"
  }
 },
 "nbformat": 4,
 "nbformat_minor": 2
}
